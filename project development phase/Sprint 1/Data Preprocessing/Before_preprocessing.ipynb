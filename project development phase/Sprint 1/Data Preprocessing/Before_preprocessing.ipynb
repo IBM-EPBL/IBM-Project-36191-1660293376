{
  "nbformat": 4,
  "nbformat_minor": 0,
  "metadata": {
    "colab": {
      "provenance": []
    },
    "kernelspec": {
      "name": "python3",
      "display_name": "Python 3"
    },
    "language_info": {
      "name": "python"
    }
  },
  "cells": [
    {
      "cell_type": "code",
      "execution_count": 1,
      "metadata": {
        "id": "kyGgpzC21mq_"
      },
      "outputs": [],
      "source": [
        "import pandas as pd"
      ]
    },
    {
      "cell_type": "code",
      "source": [
        "from google.colab import files\n",
        "uploaded = files.upload()"
      ],
      "metadata": {
        "id": "4eEGDj713eWj"
      },
      "execution_count": null,
      "outputs": []
    },
    {
      "cell_type": "markdown",
      "source": [
        "Upload widget is only available when the cell has been executed in the current browser session. Please rerun this cell to enable.\n",
        "Saving test_data1.csv to test_data1.csv"
      ],
      "metadata": {
        "id": "KithriVZ3kto"
      }
    },
    {
      "cell_type": "code",
      "source": [
        "d = pd.read_csv('test_data1.csv')"
      ],
      "metadata": {
        "id": "iKmmmxvi3pfA"
      },
      "execution_count": null,
      "outputs": []
    },
    {
      "cell_type": "code",
      "source": [
        "d.info()"
      ],
      "metadata": {
        "id": "Vq6MCuU43sku"
      },
      "execution_count": null,
      "outputs": []
    },
    {
      "cell_type": "markdown",
      "source": [
        "RangeIndex: 137057 entries, 0 to 137056\n",
        "Data columns (total 17 columns):\n",
        " #   Column                             Non-Null Count   Dtype  \n",
        "---  ------                             --------------   -----  \n",
        " 0   case_id                            137057 non-null  int64  \n",
        " 1   Hospital_code                      137057 non-null  int64  \n",
        " 2   Hospital_type_code                 137057 non-null  object \n",
        " 3   City_Code_Hospital                 137057 non-null  int64  \n",
        " 4   Hospital_region_code               137057 non-null  object \n",
        " 5   Available Extra Rooms in Hospital  137057 non-null  int64  \n",
        " 6   Department                         137057 non-null  object \n",
        " 7   Ward_Type                          137057 non-null  object \n",
        " 8   Ward_Facility_Code                 137057 non-null  object \n",
        " 9   Bed Grade                          137022 non-null  float64\n",
        " 10  patientid                          137057 non-null  int64  \n",
        " 11  City_Code_Patient                  134900 non-null  float64\n",
        " 12  Type of Admission                  137057 non-null  object \n",
        " 13  Severity of Illness                137057 non-null  object \n",
        " 14  Visitors with Patient              137057 non-null  int64  \n",
        " 15  Age                                137057 non-null  object \n",
        " 16  Admission_Deposit                  137057 non-null  float64\n",
        "dtypes: float64(3), int64(6), object(8)\n",
        "memory usage: 17.8+ MB"
      ],
      "metadata": {
        "id": "v5PQKC3w3-q5"
      }
    },
    {
      "cell_type": "code",
      "source": [
        "d.isnull()"
      ],
      "metadata": {
        "id": "fILZTUVS4Cza"
      },
      "execution_count": null,
      "outputs": []
    },
    {
      "cell_type": "markdown",
      "source": [
        "pital_code\tHospital_type_code\tCity_Code_Hospital\tHospital_region_code\tAvailable Extra Rooms in Hospital\tDepartment\tWard_Type\tWard_Facility_Code\tBed Grade\tpatientid\tCity_Code_Patient\tType of Admission\tSeverity of Illness\tVisitors with Patient\tAge\tAdmission_Deposit\n",
        "0\tFalse\tFalse\tFalse\tFalse\tFalse\tFalse\tFalse\tFalse\tFalse\tFalse\tFalse\tFalse\tFalse\tFalse\tFalse\tFalse\tFalse\n",
        "1\tFalse\tFalse\tFalse\tFalse\tFalse\tFalse\tFalse\tFalse\tFalse\tFalse\tFalse\tFalse\tFalse\tFalse\tFalse\tFalse\tFalse\n",
        "2\tFalse\tFalse\tFalse\tFalse\tFalse\tFalse\tFalse\tFalse\tFalse\tFalse\tFalse\tFalse\tFalse\tFalse\tFalse\tFalse\tFalse\n",
        "3\tFalse\tFalse\tFalse\tFalse\tFalse\tFalse\tFalse\tFalse\tFalse\tFalse\tFalse\tFalse\tFalse\tFalse\tFalse\tFalse\tFalse\n",
        "4\tFalse\tFalse\tFalse\tFalse\tFalse\tFalse\tFalse\tFalse\tFalse\tFalse\tFalse\tFalse\tFalse\tFalse\tFalse\tFalse\tFalse\n",
        "...\t...\t...\t...\t...\t...\t...\t...\t...\t...\t...\t...\t...\t...\t...\t...\t...\t...\n",
        "137052\tFalse\tFalse\tFalse\tFalse\tFalse\tFalse\tFalse\tFalse\tFalse\tFalse\tFalse\tFalse\tFalse\tFalse\tFalse\tFalse\tFalse\n",
        "137053\tFalse\tFalse\tFalse\tFalse\tFalse\tFalse\tFalse\tFalse\tFalse\tFalse\tFalse\tFalse\tFalse\tFalse\tFalse\tFalse\tFalse\n",
        "137054\tFalse\tFalse\tFalse\tFalse\tFalse\tFalse\tFalse\tFalse\tFalse\tFalse\tFalse\tFalse\tFalse\tFalse\tFalse\tFalse\tFalse\n",
        "137055\tFalse\tFalse\tFalse\tFalse\tFalse\tFalse\tFalse\tFalse\tFalse\tFalse\tFalse\tFalse\tFalse\tFalse\tFalse\tFalse\tFalse\n",
        "137056\tFalse\tFalse\tFalse\tFalse\tFalse\tFalse\tFalse\tFalse\tFalse\tFalse\tFalse\tFalse\tFalse\tFalse\tFalse\tFalse\tFalse\n",
        "137057 rows × 17 columns"
      ],
      "metadata": {
        "id": "Vom3_nDL4KmL"
      }
    },
    {
      "cell_type": "code",
      "source": [
        "d.isnull().sum()"
      ],
      "metadata": {
        "id": "SR0YaxUW5-8m"
      },
      "execution_count": null,
      "outputs": []
    },
    {
      "cell_type": "markdown",
      "source": [
        "case_id                                 0\n",
        "Hospital_code                           0\n",
        "Hospital_type_code                      0\n",
        "City_Code_Hospital                      0\n",
        "Hospital_region_code                    0\n",
        "Available Extra Rooms in Hospital       0\n",
        "Department                              0\n",
        "Ward_Type                               0\n",
        "Ward_Facility_Code                      0\n",
        "Bed Grade                              35\n",
        "patientid                               0\n",
        "City_Code_Patient                    2157\n",
        "Type of Admission                       0\n",
        "Severity of Illness                     0\n",
        "Visitors with Patient                   0\n",
        "Age                                     0\n",
        "Admission_Deposit                       0\n",
        "dtype: int64"
      ],
      "metadata": {
        "id": "8qdJA8Dn6CGB"
      }
    }
  ]
}