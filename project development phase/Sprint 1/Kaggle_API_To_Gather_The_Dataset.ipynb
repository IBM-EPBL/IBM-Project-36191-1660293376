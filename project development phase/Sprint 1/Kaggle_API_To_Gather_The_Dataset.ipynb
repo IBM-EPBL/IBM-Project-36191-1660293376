{
  "nbformat": 4,
  "nbformat_minor": 0,
  "metadata": {
    "colab": {
      "provenance": []
    },
    "kernelspec": {
      "name": "python3",
      "display_name": "Python 3"
    },
    "language_info": {
      "name": "python"
    }
  },
  "cells": [
    {
      "cell_type": "code",
      "execution_count": 1,
      "metadata": {
        "id": "923Oj5PWvFLW"
      },
      "outputs": [],
      "source": [
        "!pip install -q kaggle\n"
      ]
    },
    {
      "cell_type": "code",
      "source": [
        "!mkdir ~/.kaggle"
      ],
      "metadata": {
        "id": "W4sDHvVNvi2J"
      },
      "execution_count": 2,
      "outputs": []
    },
    {
      "cell_type": "code",
      "source": [
        "!chmod 600 ~/.kaggle/kaggle.json"
      ],
      "metadata": {
        "id": "pLRWg9Jjv21p"
      },
      "execution_count": null,
      "outputs": []
    },
    {
      "cell_type": "code",
      "source": [
        "!kaggle datasets download -d rimalis/healthcare-data"
      ],
      "metadata": {
        "id": "qEZM2L8qwA4j"
      },
      "execution_count": null,
      "outputs": []
    },
    {
      "cell_type": "markdown",
      "source": [
        "Downloading healthcare-data.zip to /content\n",
        "  0% 0.00/6.54M [00:00, ?B/s]\n",
        "100% 6.54M/6.54M [00:00<00:00, 80.9MB/s]"
      ],
      "metadata": {
        "id": "Q0QahI1LwBwo"
      }
    },
    {
      "cell_type": "code",
      "source": [
        "!unzip /content/healthcare-data.zip"
      ],
      "metadata": {
        "id": "kd1KKrZuwu3h"
      },
      "execution_count": null,
      "outputs": []
    },
    {
      "cell_type": "markdown",
      "source": [],
      "metadata": {
        "id": "ECjYYMeOwyNV"
      }
    },
    {
      "cell_type": "markdown",
      "source": [
        "Archive:  /content/healthcare-data.zip\n",
        "  inflating: sample_sub.csv          \n",
        "  inflating: test_data.csv           \n",
        "  inflating: train_data.csv          \n",
        "  inflating: train_data_dictionary.csv  "
      ],
      "metadata": {
        "id": "B029sWSww0ji"
      }
    }
  ]
}